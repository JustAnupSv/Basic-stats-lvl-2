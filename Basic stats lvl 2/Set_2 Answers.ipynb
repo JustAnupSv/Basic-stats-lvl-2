{
 "cells": [
  {
   "cell_type": "code",
   "execution_count": 1,
   "id": "0de20e18",
   "metadata": {},
   "outputs": [],
   "source": [
    "import pandas as pd\n",
    "import numpy as np\n",
    "import scipy\n",
    "from scipy import stats"
   ]
  },
  {
   "cell_type": "markdown",
   "id": "8f8b82c2",
   "metadata": {},
   "source": [
    "# Q.1"
   ]
  },
  {
   "cell_type": "code",
   "execution_count": 2,
   "id": "7e594509",
   "metadata": {},
   "outputs": [
    {
     "name": "stdout",
     "output_type": "stream",
     "text": [
      "Probability that the Service Manager will not meet his commitment 0.26599\n"
     ]
    }
   ],
   "source": [
    "z=(50-45)/8\n",
    "print('Probability that the Service Manager will not meet his commitment',np.round(1-stats.norm.cdf(z),5))"
   ]
  },
  {
   "cell_type": "markdown",
   "id": "e87e23b7",
   "metadata": {},
   "source": [
    "# Q.2"
   ]
  },
  {
   "cell_type": "code",
   "execution_count": 4,
   "id": "c7ac3ef2",
   "metadata": {},
   "outputs": [
    {
     "name": "stdout",
     "output_type": "stream",
     "text": [
      "Given statement is false\n"
     ]
    }
   ],
   "source": [
    "#Let's find probability of employees having age greater than 44\n",
    "z_score1=(44-38)/6\n",
    "p1=1-stats.norm.cdf(z_score1)\n",
    "#We'll now find probability of employees having age between 38 - 44\n",
    "z_score2=(38-38)/6\n",
    "p2=1-(p1+(1-stats.norm.cdf(z_score2)))\n",
    "if p1>p2:\n",
    "    print('Given statement is true')\n",
    "else:\n",
    "    print('Given statement is false')"
   ]
  },
  {
   "cell_type": "code",
   "execution_count": 5,
   "id": "b7bcbdde",
   "metadata": {},
   "outputs": [
    {
     "name": "stdout",
     "output_type": "stream",
     "text": [
      "Given statement is true\n"
     ]
    }
   ],
   "source": [
    "#Let's find probability of employees having age under 30\n",
    "z_score3=(30-38)/6\n",
    "p3=1-stats.norm.cdf(np.abs(z_score3))\n",
    "#To find number of employees under age of 30\n",
    "N=np.round(((400*p3)/100)*100)\n",
    "if N==36:\n",
    "    print('Given statement is true')\n",
    "else:\n",
    "    print('Given statement is false')"
   ]
  },
  {
   "cell_type": "markdown",
   "id": "0284c462",
   "metadata": {},
   "source": [
    "# Q.4"
   ]
  },
  {
   "cell_type": "code",
   "execution_count": 6,
   "id": "2f8b417f",
   "metadata": {},
   "outputs": [],
   "source": [
    "μ=100\n",
    "σ=20\n",
    "#Z value at 0.1 percentile\n",
    "z1=stats.norm.ppf(0.005)\n",
    "#Z value at 0.99 percentile\n",
    "z2=stats.norm.ppf(0.995)"
   ]
  },
  {
   "cell_type": "code",
   "execution_count": 7,
   "id": "1cfd9dd9",
   "metadata": {},
   "outputs": [
    {
     "name": "stdout",
     "output_type": "stream",
     "text": [
      "a =  48.483413929021985\n",
      "b =  151.516586070978\n"
     ]
    }
   ],
   "source": [
    "a=z1*20+100\n",
    "b=z2*20+100\n",
    "print('a = ',a) \n",
    "print('b = ',b)"
   ]
  },
  {
   "cell_type": "markdown",
   "id": "9142abd7",
   "metadata": {},
   "source": [
    "# Q.5"
   ]
  },
  {
   "cell_type": "code",
   "execution_count": 8,
   "id": "72c938f7",
   "metadata": {},
   "outputs": [
    {
     "name": "stdout",
     "output_type": "stream",
     "text": [
      "Mean profit in Rupees is  540  Millions\n",
      "Standard Deviation in Rupees is  225.0  Millions\n"
     ]
    }
   ],
   "source": [
    "#Mean profit from different divisions of a company\n",
    "Mean = 5+7\n",
    "print('Mean profit in Rupees is ',Mean*45,' Millions')\n",
    "#Variance of profits from different divisions of a company=SD**2=SD1**2+SD2**2\n",
    "SD=np.sqrt((9)+(16))\n",
    "print('Standard Deviation in Rupees is ',SD*45,' Millions')"
   ]
  },
  {
   "cell_type": "code",
   "execution_count": 9,
   "id": "ef3d4634",
   "metadata": {},
   "outputs": [
    {
     "name": "stdout",
     "output_type": "stream",
     "text": [
      "Range is  (99.00810347848784, 980.9918965215122) Millions\n"
     ]
    }
   ],
   "source": [
    "# A. To specify a rupee range such that it contains 95% probability for annual profit of company\n",
    "print('Range is ',stats.norm.interval(0.95,540,225),'Millions')"
   ]
  },
  {
   "cell_type": "code",
   "execution_count": 10,
   "id": "9bef6be6",
   "metadata": {},
   "outputs": [
    {
     "name": "stdout",
     "output_type": "stream",
     "text": [
      "5th Percentile of profit in Rupees is  170.0  Millions\n"
     ]
    }
   ],
   "source": [
    "# B. To specify 5th percentile of profit, we'll use x = z*σ + μ\n",
    "# Calculating z for 5th percentile\n",
    "z5=stats.norm.ppf(0.05)\n",
    "print('5th Percentile of profit in Rupees is ',np.round(z5*225+540),' Millions')"
   ]
  },
  {
   "cell_type": "code",
   "execution_count": 11,
   "id": "7e0089d7",
   "metadata": {},
   "outputs": [
    {
     "name": "stdout",
     "output_type": "stream",
     "text": [
      "Division 1 have more probability of making loss than the division 2\n"
     ]
    }
   ],
   "source": [
    "# C. Probability of making loss i.e. P(X<0)\n",
    "#Probability of division 1 making loss\n",
    "Div1=stats.norm.cdf(0,5,3)\n",
    "#Probability of division 2 making loss\n",
    "Div2=stats.norm.cdf(0,7,4)\n",
    "if Div1>Div2:\n",
    "    print('Division 1 have more probability of making loss than the division 2')\n",
    "else:\n",
    "     print('Division 2 have more probability of making loss than the division 1')"
   ]
  },
  {
   "cell_type": "code",
   "execution_count": null,
   "id": "fa11ae44",
   "metadata": {},
   "outputs": [],
   "source": []
  }
 ],
 "metadata": {
  "kernelspec": {
   "display_name": "Python 3 (ipykernel)",
   "language": "python",
   "name": "python3"
  },
  "language_info": {
   "codemirror_mode": {
    "name": "ipython",
    "version": 3
   },
   "file_extension": ".py",
   "mimetype": "text/x-python",
   "name": "python",
   "nbconvert_exporter": "python",
   "pygments_lexer": "ipython3",
   "version": "3.9.12"
  }
 },
 "nbformat": 4,
 "nbformat_minor": 5
}
